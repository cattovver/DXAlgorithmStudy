{
  "nbformat": 4,
  "nbformat_minor": 0,
  "metadata": {
    "colab": {
      "provenance": [],
      "toc_visible": true,
      "authorship_tag": "ABX9TyP+mbx4y2HdkK1KuSbHQf8/",
      "include_colab_link": true
    },
    "kernelspec": {
      "name": "python3",
      "display_name": "Python 3"
    },
    "language_info": {
      "name": "python"
    }
  },
  "cells": [
    {
      "cell_type": "markdown",
      "metadata": {
        "id": "view-in-github",
        "colab_type": "text"
      },
      "source": [
        "<a href=\"https://colab.research.google.com/github/tleunwlp/DXAlgorithmStudy/blob/main/%EC%95%8C%EA%B3%A0%EB%A6%AC%EC%A6%98.ipynb\" target=\"_parent\"><img src=\"https://colab.research.google.com/assets/colab-badge.svg\" alt=\"Open In Colab\"/></a>"
      ]
    },
    {
      "cell_type": "markdown",
      "source": [
        "# 그리디"
      ],
      "metadata": {
        "id": "WJzvKCyurJjO"
      }
    },
    {
      "cell_type": "markdown",
      "source": [
        "# 구현"
      ],
      "metadata": {
        "id": "muyWkucoqJ8I"
      }
    },
    {
      "cell_type": "markdown",
      "source": [
        "- 머릿속에 잇는 알고리즘을 소스코드로 바꾸는 과정\n",
        "  - 완전 탐색\n",
        "  - 시뮬레이션"
      ],
      "metadata": {
        "id": "_ptUIglRRIYy"
      }
    },
    {
      "cell_type": "markdown",
      "source": [
        "## 럭키 스트레이트\n",
        "\n",
        "- 입력조건 : 첫째 줄에 접수 N이 정수로 주어집니다. (10<= N <= 99,999,999) 단, 점수 N의 자리수는 항상 짝수 형태로만 주어집니다. 예를들어 자릿수가 5인 12,345 같은 수는 입력으로 들어오지 않습니다.\n",
        "- 출력조건 : 첫째 줄에 럭키 스트레이트를 사용할 수 있다면 \"LUCKY\"를, 사용할 수 없다면 \"READY\"를 출력합니다.\n",
        "- 백준 18406과 같은 문제 (https://www.acmicpc.net/problem/18406)"
      ],
      "metadata": {
        "id": "yw5bGgT_BupG"
      }
    },
    {
      "cell_type": "code",
      "source": [],
      "metadata": {
        "id": "jmR4n1phqDAt"
      },
      "execution_count": null,
      "outputs": []
    }
  ]
}