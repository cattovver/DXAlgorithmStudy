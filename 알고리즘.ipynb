{
  "nbformat": 4,
  "nbformat_minor": 0,
  "metadata": {
    "colab": {
      "provenance": [],
      "toc_visible": true,
      "authorship_tag": "ABX9TyM9Cy5uiwGOICAd4nwawuo2",
      "include_colab_link": true
    },
    "kernelspec": {
      "name": "python3",
      "display_name": "Python 3"
    },
    "language_info": {
      "name": "python"
    }
  },
  "cells": [
    {
      "cell_type": "markdown",
      "metadata": {
        "id": "view-in-github",
        "colab_type": "text"
      },
      "source": [
        "<a href=\"https://colab.research.google.com/github/tleunwlp/DXAlgorithmStudy/blob/main/%EC%95%8C%EA%B3%A0%EB%A6%AC%EC%A6%98.ipynb\" target=\"_parent\"><img src=\"https://colab.research.google.com/assets/colab-badge.svg\" alt=\"Open In Colab\"/></a>"
      ]
    },
    {
      "cell_type": "markdown",
      "source": [
        "# 참고 블로그\n",
        "https://unie2.tistory.com/category/%EC%95%8C%EA%B3%A0%EB%A6%AC%EC%A6%98"
      ],
      "metadata": {
        "id": "V1RJ7Mq-Jfj5"
      }
    },
    {
      "cell_type": "markdown",
      "source": [
        "# 그리디"
      ],
      "metadata": {
        "id": "WJzvKCyurJjO"
      }
    },
    {
      "cell_type": "markdown",
      "source": [
        "# 구현\n",
        "\n",
        "- 머릿속에 잇는 알고리즘을 소스코드로 바꾸는 과정\n",
        "  - 완전 탐색\n",
        "  - 시뮬레이션\n",
        "- 구현문제는 피지컬 싸움 -> 피지컬이 너무 약해서 블로그를 많이 참고"
      ],
      "metadata": {
        "id": "muyWkucoqJ8I"
      }
    },
    {
      "cell_type": "markdown",
      "source": [
        "## 럭키 스트레이트\n",
        "\n",
        "- 입력조건 : 첫째 줄에 접수 N이 정수로 주어집니다. (10<= N <= 99,999,999) 단, 점수 N의 자리수는 항상 짝수 형태로만 주어집니다. 예를들어 자릿수가 5인 12,345 같은 수는 입력으로 들어오지 않습니다.\n",
        "- 출력조건 : 첫째 줄에 럭키 스트레이트를 사용할 수 있다면 \"LUCKY\"를, 사용할 수 없다면 \"READY\"를 출력합니다.\n",
        "- 백준 18406과 같은 문제 (https://www.acmicpc.net/problem/18406)\n",
        "\n",
        "- 입력예시1 : 132402 - 출력예시1 : LUCKY\n",
        "- 입력예시2 : 7755 - 출력예시2 : READY"
      ],
      "metadata": {
        "id": "yw5bGgT_BupG"
      }
    },
    {
      "cell_type": "markdown",
      "source": [
        "**< 아이디어 >**\n",
        "\n",
        "들어온 문자열의 길이를 측정해서 절반까지 탐색하면서 각각을 저장한다.\n",
        "\n",
        "둘을 비교하여 결과를 출력한다.\n"
      ],
      "metadata": {
        "id": "8jOS4Pq9It4_"
      }
    },
    {
      "cell_type": "code",
      "source": [
        "n = input()\n",
        "\n",
        "number = len(n) // 2\n",
        "\n",
        "left_value = 0\n",
        "for i in range(number) :\n",
        "  left_value += int(n[i])\n",
        "\n",
        "right_value = 0\n",
        "for i in range(number, len(n)) :\n",
        "  right_value += int(n[i])\n",
        "\n",
        "if left_value == right_value :\n",
        "  print('LUCKY')\n",
        "else :\n",
        "  print('READY')"
      ],
      "metadata": {
        "colab": {
          "base_uri": "https://localhost:8080/"
        },
        "id": "jmR4n1phqDAt",
        "outputId": "584439ba-2723-48fb-8feb-abf0c84dbc01"
      },
      "execution_count": null,
      "outputs": [
        {
          "output_type": "stream",
          "name": "stdout",
          "text": [
            "fatal: not a git repository (or any of the parent directories): .git\n"
          ]
        }
      ]
    },
    {
      "cell_type": "markdown",
      "source": [
        "1. n을 입력받고 n의 길이에 2를 나눈 몫을 number에 할당한다.\n",
        "2. 반복문을 통해 점수 n을 자릿수를 기준으로 반으로 나누어 왼쪽 부분의 각 자릿수의 합과 오른쪽 부분의 각 자릿수의 합을 구한다.\n",
        "3. 조건문을 통해 왼쪽 자릿수의 합과 오른쪽 자릿수의 합이 동일하다면 'LUCKY'를 출력하고 그렇지 않을 경우 'READY'를 출력한다."
      ],
      "metadata": {
        "id": "PWVLWAgMJW7I"
      }
    },
    {
      "cell_type": "markdown",
      "source": [
        "## 문자열 재정렬\n",
        "\n",
        "- 입력조건 : 첫째 줄에 하나의 문자열 S가 주어집니다 (1<=S의 길이<=10,000)\n",
        "- 출력조건 : 첫째 줄에 문제에서 요구하는 정답을 출력합니다.\n",
        "- 입력예시1 : K1KACB7 - 출력예시1 : ABCKK13\n",
        "- 입력예시2 : AJKDLSI412K4JSJ9D - 출력예시2 : ADDIJJJKKLSS20\n"
      ],
      "metadata": {
        "id": "7HeRx7uSKZC7"
      }
    },
    {
      "cell_type": "markdown",
      "source": [
        "**<아이디어>**\n",
        "\n",
        "ord(문자) - 10진수 유니코드값으로 변환\n",
        "```\n",
        "ord(A) #65\n",
        "```\n",
        "chr(정수) - 정수코드 값을 유니코드 문자로 변환\n",
        "\n",
        "```\n",
        "chr(65) #A\n",
        "```\n",
        "isalpha() - 알파벳인지 확인\n",
        "\n",
        "**isdigit() - 숫자인지 확인**\n",
        "\n",
        "isalnum() - 알파벳 or 숫자인지 확인\n",
        "\n",
        "**''.join(리스트) - 매개변수로 들어온 ['a', 'b', 'c'] 이런 식의 리스트를 'abc'의 문자열로 합쳐서 반환해주는 함수**\n",
        "\n",
        "'구분자'.join(리스트) - '_'.join(['a', 'b', 'c']) 라 하면 \"a_b_c\" 와 같은 형태로 문자열을 만들어서 반환"
      ],
      "metadata": {
        "id": "s1WVf-HUMGHI"
      }
    },
    {
      "cell_type": "code",
      "source": [
        "data = input()\n",
        "result = []\n",
        "value = 0\n",
        "\n",
        "#문자를 하나씩 확인하며\n",
        "for x in data:\n",
        "  #숫자인 경우 변수에 저장\n",
        "  if x.isdigit() :\n",
        "    value += int(x)\n",
        "  #알파벳인 경우 리스트에 삽입\n",
        "  else :\n",
        "    result.append(x)\n",
        "\n",
        "#알파벳을 오름차순으로 정렬\n",
        "result.sort()\n",
        "\n",
        "#숫자가 하나라도 존재하는 경우 가장 뒤에 삽입\n",
        "if value != 0:\n",
        "  result.append(str(value))\n",
        "\n",
        "\n",
        "#최종결과출력(리스트를 문자열로 변환하여 출력)\n",
        "print(''.join(result))"
      ],
      "metadata": {
        "colab": {
          "base_uri": "https://localhost:8080/"
        },
        "id": "3158bittN5Dz",
        "outputId": "3bc9dc46-a28a-42c9-90dd-f7923140c6de"
      },
      "execution_count": null,
      "outputs": [
        {
          "output_type": "stream",
          "name": "stdout",
          "text": [
            "K1KA5CB7\n",
            "ABCKK13\n"
          ]
        }
      ]
    },
    {
      "cell_type": "markdown",
      "source": [
        "## 문자열 압축\n",
        "\n",
        "링크 참고\n",
        "\n",
        "https://school.programmers.co.kr/learn/courses/30/lessons/60057\n",
        "\n"
      ],
      "metadata": {
        "id": "Q3FIdX_GRle-"
      }
    },
    {
      "cell_type": "markdown",
      "source": [
        "- 문자를 압축하여 저장하고자 한다.\n",
        "- ababab를 예로들면, 두 개로 저장할때, 3ab로 가장 압축이 잘된다.\n",
        "- abcabcdede와 같은 경우는 2개 단위로 압축하면 abcabc2de, 3개 단위로 압축하면 -2abcdede, 3개 단위로 압축할 때 가장 짧은 문자열이 된다.\n",
        "- 문자열을 1개 이상 단위로 압축했을 때, 가장 짧은 것의 길이를 return하도록 함수를 완성하라.\n",
        "\n",
        "<제한사항>\n",
        "- s의 길이는 1이상 1000이하이다.\n",
        "- s는 알파벳 소문자로만 이루어져 있다.\n",
        "\n",
        "<입출력예>\n",
        "\n",
        "![image.png](data:image/png;base64,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)"
      ],
      "metadata": {
        "id": "iS-eT_S7VSQ9"
      }
    },
    {
      "cell_type": "markdown",
      "source": [
        "<아이디어>\n",
        "\n",
        "일단 문자열을 1개 단위로 자를때부터\n",
        "\n",
        "문자열(길이 n) n개 단위로 자를때까지\n",
        "\n",
        "중복된 규칙이 있는지 보면서 탐색하고 각각 끝나는 지점에서 압축한 문자열 길이를 저장\n",
        "\n",
        "--> 최솟값 출력"
      ],
      "metadata": {
        "id": "UPhedx3DV8Ct"
      }
    },
    {
      "cell_type": "code",
      "source": [
        "def solution(s):\n",
        "    # 길이가 1이면, 볼거 없이 1이다.\n",
        "    if len(s) == 1:\n",
        "        return 1\n",
        "    # 문자열 자를 길이를 반복문으로 늘려나가면서 전체를 탐색하게 한다.\n",
        "    result= []\n",
        "    for step in range(1, len(s)+1):    # 간격은 1부터\n",
        "    # 그 안에서, 첫번째를 우선 슬라이스 해놓고, step을 간격으로\n",
        "    # for j range(step, 전체길이 + step, step) 스텝만큼 잘라서 앞에 잘라 놓은 것과 비교한다.\n",
        "        string = ''  # 압축 문자열 모을 것\n",
        "        prev = s[:step]  # 첫번째 스텝\n",
        "        cnt = 1   # 기본 prev가 1이니까\n",
        "        for j in range(step, len(s)+step, step):  # step 0 이면 에러\n",
        "            # step 부터 , 길이 + 스텝, 스텝 간격, 걱정말라,\n",
        "            # s문자열 리스트 슬라이싱할때, 벗어나도, 에러 안난다. (인덱스는 에러남)\n",
        "            if prev == s[j:j+step]:\n",
        "                cnt += 1       # 앞의 스텝과 같다면, cnt를 올린다.\n",
        "            else :  # 앞의 스텝에 해당하는 문자열과 다르면,\n",
        "                if cnt != 1:\n",
        "                # 앞에 잘라놓은 문자열이 반복 된 것이니까,\n",
        "                # 모으는 문자열 + str (숫자) + 잘라놓은 문자열을 더한다.\n",
        "                    string = string + str(cnt) + prev    # 지금까지 반복된 문자열 압축하여 문자열 저장\n",
        "                else :      # 반복이 1이면,\n",
        "                    string = string + prev  # 모으는 문자열 + 잘라놓은 문자열\n",
        "\n",
        "                prev = s[j:j+step]\n",
        "                cnt = 1\n",
        "\n",
        "        result.append(len(string))  # 압축된 문자열 길이 모으기\n",
        "        # 가장 바깥 반복문이 하나씩 실행되면 문자열이 만들어 진것이니까,\n",
        "        # len으로 길이를 구해서 문자열의 길이를 하나씩 append로 저장한다.\n",
        "\n",
        "    return min(result)  # min 저장된 문자열로, 최소값을 출력한다."
      ],
      "metadata": {
        "id": "KW691GuBSDtj"
      },
      "execution_count": null,
      "outputs": []
    },
    {
      "cell_type": "markdown",
      "source": [
        "- 리스트에서 인덱스는 범위 초과시 오류나지만, 슬라이스를 했을때는 오류없이 가능한 범위까지만 보여준다.\n",
        "- 배수를 탐색할때, 끝을 i로 더한것은 다른 사람들이 2로 나눈것과 같은 목적으로 한 것이다.\n",
        "- 완전 탐색의 경우, 배수단위로 탐색한다면, 길이에 탐색할 간격을 더한것을 끝으로 해주어야 오류 없이 탐색할 수 있다."
      ],
      "metadata": {
        "id": "doYXcOcPWM2I"
      }
    },
    {
      "cell_type": "markdown",
      "source": [
        "## 자물쇠와 열쇠"
      ],
      "metadata": {
        "id": "xJLbCCbLSUUY"
      }
    },
    {
      "cell_type": "markdown",
      "source": [
        "링크 참고\n",
        "\n",
        "https://school.programmers.co.kr/learn/courses/30/lessons/60059\n",
        "\n",
        "\n",
        "- N x N 자물쇠가 있고, M x M 의 열쇠가 있다.\n",
        "- 좌물쇠도 0, 1, 열쇠도 0, 1로 이루어져 있다.\n",
        "- 열쇠는 회전과 수평, 수직 이동이 가능하다.\n",
        "- 회전, 수평, 수직 이동으로 좌물쇠의 홈에, 열쇠의 돌기만 맞추어야 한다.\n",
        "돌기와 돌기가 맞으면 안된다.\n",
        "- 자물쇠를 열수 있으면 True, 열수 없으면 False 를 반환하는 프로그램을 만들라.\n",
        "\n",
        "<제한사항>\n",
        "- key는 M x M(3 ≤ M ≤ 20, M은 자연수)크기 2차원 배열입니다.\n",
        "- lock은 N x N(3 ≤ N ≤ 20, N은 자연수)크기 2차원 배열입니다.\n",
        "- M은 항상 N 이하입니다.\n",
        "k- ey와 lock의 원소는 0 또는 1로 이루어져 있습니다.\n",
        "  - 0은 홈 부분, 1은 돌기 부분을 나타냅니다.\n",
        "\n",
        "<입출력예>\n",
        "\n",
        "![image.png](data:image/png;base64,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)\n"
      ],
      "metadata": {
        "id": "GI5HvuAXTCFB"
      }
    },
    {
      "cell_type": "markdown",
      "source": [
        "<아이디어>\n",
        "- 효율성을 따지지 않기 때문에 완전탐색 방법을 사용한다.\n",
        "- 자물쇠 2차원 리스트를 3배 크기로 크게 만들어서 열쇠를 한칸씩 오른쪽 아래로 이동시키면서 차례차례 열쇠가 맞는지 확인한다.\n",
        "- 90도 회전, 열쇠가 맞았는지 확인하는 함수를 만든다.\n",
        "- 열쇠 2차원 리스트를 왼쪽 최상단에서, 오른쪽 최하단까지 한칸씩 이동시키면서, 자물쇠에 더한다.\n",
        "- 자물쇠 리스트의 모든 부분이 1인지 확인한다.\n",
        "- 아니면, 다시 열쇠를 제거한다. (더했던 것을 다시 뺀다.)"
      ],
      "metadata": {
        "id": "mMnFDpAPWrvR"
      }
    },
    {
      "cell_type": "code",
      "source": [
        "# 2차원 리스트 회전\n",
        "def rotate_a_matrix_by_90_degree(a):\n",
        "    n = len(a)  # 행 길이\n",
        "    m = len(a[0])  # 열 길이\n",
        "    result = [[0] * n for _ in range(m)]   # 결과 리스트\n",
        "    for i in range(n):                     # 세로\n",
        "        for j in range(m):                 # 가로\n",
        "            result[j][n - i - 1] = a[i][j]\n",
        "            # 가로 정보는 그대로 세로로 가져오고, 세로정보는 행의 길이에서 행의 정보를 빼고 1을 더빼서 가져온다.\n",
        "\n",
        "    return result\n",
        "\n",
        "# 자물쇠의 중간 부분이 모두 1인지 확인\n",
        "def check(new_lock):\n",
        "    lock_length = len(new_lock)//3         # 자물쇠를 세배 크게 만들었으니까 , 다시 줄여서\n",
        "    for i in range(lock_length, lock_length *2):       # 중심부를 탐색\n",
        "        for j in range(lock_length, lock_length *2):\n",
        "            if new_lock[i][j] != 1:                    # 1인지 확인 , 아니면, False\n",
        "                return False\n",
        "    return True          # 모두 탐색했는데, 문제없으면 True\n",
        "\n",
        "\n",
        "def solution(key, lock):\n",
        "    n = len(lock)\n",
        "    m = len(key)\n",
        "    # 자물쇠의 크기를 기존의 3배로 변환\n",
        "    new_lock = [[0]*(n*3) for _ in range(n*3)]\n",
        "    # 새로운 자물쇠의 중앙 부분에 기존의 자물쇠 넣기\n",
        "    for i in range(n):\n",
        "        for j in range(n):\n",
        "            new_lock[i+n][j+n] = lock[i][j]\n",
        "\n",
        "\n",
        "    # 4가지 방향에 대해서 확인\n",
        "    for rotation in range(4):\n",
        "        key = rotate_a_matrix_by_90_degree(key)  # 열쇠 회전\n",
        "        for x in range(n*2):\n",
        "            for y in range(n*2): # 자물쇠에 열쇠를 끼워 넣기\n",
        "\n",
        "                for i in range(m):\n",
        "                    for j in range(m):\n",
        "                        new_lock[x+i][y+j] += key[i][j]\n",
        "\n",
        "                # 새로운 자물쇠에 열쇠가 정확히 들어맞는지 검사\n",
        "                if check(new_lock) == True:\n",
        "                    return True\n",
        "                # 자물쇠에서 열쇠를 다시 빼기\n",
        "                for i in range(m):\n",
        "                    for j in range(m):\n",
        "                        new_lock[x+i][y+j] -= key[i][j]\n",
        "\n",
        "    return False  # 모두 탐색했는데, 열쇠가 안맞으면"
      ],
      "metadata": {
        "id": "kkwLVF4ESWWE"
      },
      "execution_count": null,
      "outputs": []
    },
    {
      "cell_type": "markdown",
      "source": [
        "## 뱀"
      ],
      "metadata": {
        "id": "8Te1fGzYSWsM"
      }
    },
    {
      "cell_type": "markdown",
      "source": [
        "링크 참고\n",
        "\n",
        "https://www.acmicpc.net/problem/3190\n",
        "\n",
        "사과의 위치와 뱀의 이동경로가 주어질 때, 이 게임이 몇 초에 끝나는지 계산하라.\n",
        "\n",
        "<조건>\n",
        "- 시작할때 뱀은 맨위 맨좌측에 위치하고 뱀의 길이는 1, 처음에 오른쪽을 향한다.\n",
        "- 보드의 크기 N\n",
        "- 사과의 개수 K\n",
        "- 사과의 위치 ( 행, 열 ) , 위치는 모두 다르며, 1행1열 맨 위 맨 좌측에는 사과가 없다.\n",
        "- 뱀의 방향 변환 횟수 L\n",
        "- 정수 X, 문자 C : X초가 끝난 뒤에 왼쪽 L 또는 오른쪽 D로 90도 방향을 회전시킨다. X는 10000 이하의 양의 정수, 방향 전환 정보는 X가 증가하는 순으로 주어진다.\n",
        "\n",
        "-> 게임이 몇 초에 끝나는지 출력하라.\n",
        "\n",
        "<예제입력1>\n",
        "\n",
        "6\n",
        "\n",
        "3\n",
        "\n",
        "3 4\n",
        "\n",
        "2 5\n",
        "\n",
        "5 3\n",
        "\n",
        "3\n",
        "\n",
        "3 D\n",
        "\n",
        "15 L\n",
        "\n",
        "17 D\n",
        "\n",
        "\n",
        "<예제출력1>\n",
        "\n",
        "9\n"
      ],
      "metadata": {
        "id": "5RmlcDC6Ub6s"
      }
    },
    {
      "cell_type": "markdown",
      "source": [
        "<아이디어>\n",
        "뱀이 벽을 부딪히는지, 자신에게 부딪히는지 확인하면서, 맵을 지나간다, 사과를 먹는다, 회전을 한다를 구현해야한다."
      ],
      "metadata": {
        "id": "QMlmuZmSXWMg"
      }
    },
    {
      "cell_type": "code",
      "source": [
        "## 데이터 입력 (판 그리기 , 사과 입력하기 )\n",
        "# 보드 0 으로 이루어지고\n",
        "# 사과는 1로 두고 , 뱀은 2로 둔다.\n",
        "n = int(input())   # 보드크기\n",
        "k = int(input())   # 사과의 수\n",
        "data = [[0]* (n+1) for _ in range(n+1)]   # 기준이 1,1 이니까\n",
        "\n",
        "for _ in range(k):\n",
        "    a, b = map(int, input().split())\n",
        "    data[a][b] = 1   # 맵에 사과 입력\n",
        "\n",
        "# 방향정보 입력\n",
        "info = []  # 방향 전환정보\n",
        "l = int(input())\n",
        "for _ in range(l):\n",
        "    x, c = input().split()\n",
        "    info.append((int(x), c))\n",
        "\n",
        "# 방향 회전 함수 , 시계 방향으로 , 인덱스가 + 되면 동쪽으로 회전, -면 서쪽으로 회전\n",
        "dx = [0, 1, 0, -1]  # 처음 위치 동쪽, 동 남 서 북 순서 # dx가 y축이다.\n",
        "dy = [1, 0, -1, 0]\n",
        "\n",
        "def turn(direction, c):  # 현재방향과, 방향 전환 문자 가 매개변수로 들어온다.\n",
        "    if c == \"L\":     # 왼쪽 회전 , 반시계 방향 90도\n",
        "        direction = (direction - 1)%4  # 나머지를 구하면, 무슨 값이든 0~3까지\n",
        "    else:            # 오른쪽 회전, 시계 방향 90도\n",
        "        direction = (direction + 1)%4  # direction은 dx, dy의 인덱스 역할\n",
        "    return direction\n",
        "\n",
        "## 시뮬레이션 함수\n",
        "def simulate():\n",
        "    # 변수, 초기화\n",
        "    x, y = 1,1  # 시작점 , 캐릭터, x, y\n",
        "    data[x][y] = 2   # 뱀의 존재를 맵에 표시\n",
        "    direction = 0    # 처음 동쪽 방향을 0을 한다. direction은 인덱스니까\n",
        "    time = 0         # 처음 시간 초기화\n",
        "    index = 0        # 다음 회전 정보 , info의 인덱스로 사용한다. 차례차례 회전진행\n",
        "    q = [(x,y)]      # 뱀, 큐 자료구조로 , 지나가면 map을 0으로 바꿔주기 위해서\n",
        "\n",
        "    # 시뮬레이션 본격 시작\n",
        "    while True:\n",
        "        nx = x + dx[direction]    # 이동 준비, 다음 갈 좌표\n",
        "        ny = y + dy[direction]\n",
        "\n",
        "        if 1<= nx and nx <= n and 1 <=ny and ny <=n and data[nx][ny] !=2:\n",
        "            if data[nx][ny] == 0:   # 사과 없으면\n",
        "                data[nx][ny] = 2    # 맵에 이동 표시\n",
        "                q.append((nx,ny))   # 뱀 머리 업데이트\n",
        "                px, py = q.pop(0)   # 꼬리 떼낸다.\n",
        "                data[px][py] = 0    # 꼬리 맵에서 지워준다.\n",
        "\n",
        "            if data[nx][ny] == 1:   # 사과가 있으면\n",
        "                data[nx][ny] = 2    # 맵에 이동 표시\n",
        "                q.append((nx,ny))   # 머리 업데이트하고, 꼬리는 안뗀다.\n",
        "\n",
        "        else : # 다음이 부딪힌걸 확인한거고, 실제 이동할때, 시간 올리면서 종료\n",
        "            time += 1\n",
        "            break\n",
        "\n",
        "        x, y = nx, ny  # 뱀 이동, 시간도 같이 흘러간다.\n",
        "        time += 1\n",
        "\n",
        "        if index < l and info[index][0] == time :  # 회전할 시간인지 확인\n",
        "            direction = turn(direction, info[index][1])\n",
        "            index += 1    # 받은 회전 중 몇번 했는지\n",
        "    return time\n",
        "\n",
        "print(simulate())"
      ],
      "metadata": {
        "id": "VPyQg64iW6ct"
      },
      "execution_count": null,
      "outputs": []
    },
    {
      "cell_type": "markdown",
      "source": [
        "## 기둥과 보 설치"
      ],
      "metadata": {
        "id": "Qd_nEfhOSaoq"
      }
    },
    {
      "cell_type": "markdown",
      "source": [
        "링크 참고\n",
        "\n",
        "https://school.programmers.co.kr/learn/courses/30/lessons/60031\n"
      ],
      "metadata": {
        "id": "zhQIBlOoUljw"
      }
    },
    {
      "cell_type": "markdown",
      "source": [
        "<아이디어>\n",
        "- 문제 조건에 맞게 구현하면 된다.\n",
        "- 순차적으로 작업을 하나씩 진행하면서(설치하거나 제거하면서), 그때마다 조건에 맞는지 확인한다."
      ],
      "metadata": {
        "id": "2ekoMAGlXgM8"
      }
    },
    {
      "cell_type": "code",
      "source": [
        "def is_possible(result):\n",
        "        # 설치 가능 여부\n",
        "        # 기둥, 보,\n",
        "        # 기둥은, 바닥에 있거나, 보의 한쪽 끝부분 위에 있거나, 다른 기둥 위에 있거나\n",
        "        # 보는 한쪽 끝 부분이 기둥 위에 있거나, 또는 양쪽 끝 부분이 다른 보와 동시에 연결\n",
        "        for x,y, stuff in result:\n",
        "            if stuff == 0 : # 기둥이면,\n",
        "                if y == 0 or [x-1,y,1] in result or \\\n",
        "                [x,y,1] in result or [x,y-1,0] in result:\n",
        "                    continue\n",
        "                return False\n",
        "            elif stuff == 1 : # 보이면,\n",
        "                if [x, y-1, 0] in result or [x+1, y-1, 0] in result or\\\n",
        "                ([x-1, y, 1] in result and [x+1,y,1] in result) :\n",
        "                    continue\n",
        "                return False\n",
        "        return True\n",
        "\n",
        "def solution(n, build_frame):\n",
        "    # 설치 or 제거\n",
        "    # 설치면 설치하고, 테스트하고, 아니면 제거하고\n",
        "    answer = []\n",
        "    for x,y,stuff,setup in build_frame:\n",
        "        if setup == 1: # 설치면\n",
        "            answer.append([x,y,stuff])  # 설치하고\n",
        "            if not is_possible(answer) :  # 가능하지 않으면,\n",
        "                answer.remove([x,y,stuff])\n",
        "\n",
        "    # 제거면, 제거하고, 테스트하고, 아니면 다시붙이고\n",
        "        if setup == 0 : # 제거면\n",
        "            answer.remove([x,y,stuff])  # 제거하고\n",
        "            if not is_possible(answer):\n",
        "                answer.append([x,y,stuff])\n",
        "    return sorted(answer)"
      ],
      "metadata": {
        "id": "iKqEVQ8TU8Y8"
      },
      "execution_count": null,
      "outputs": []
    },
    {
      "cell_type": "markdown",
      "source": [
        "- 리스트안에 요소가 있는지 확인하는 것과 remove를 다시 상기할 수 있었다."
      ],
      "metadata": {
        "id": "_l529NZ-Xk0S"
      }
    },
    {
      "cell_type": "markdown",
      "source": [
        "## 치킨 배달"
      ],
      "metadata": {
        "id": "5oDO9vTMScxB"
      }
    },
    {
      "cell_type": "markdown",
      "source": [
        "링크 참고\n",
        "\n",
        "https://www.acmicpc.net/problem/15686\n"
      ],
      "metadata": {
        "id": "egu9mRKRUtvn"
      }
    },
    {
      "cell_type": "markdown",
      "source": [
        "<아이디어>\n",
        "- 치킨집 13개 중 M개를 고르는 조합이므로, 10만개 이하의 경우의 수이므로, combinations로 완전탐색해도 시간초과 나지 않을 것이다.\n",
        "- 지도에서 집과 치킨집의 좌표를 모은다.\n",
        "치킨집을 M개로 구성된 조합의 경우마다, - 모든 집까지의 거리를 구하고 그 중 최소값을 구한다.\n",
        "- 치킨집의 조합은 combinations를 이용해서 구한다."
      ],
      "metadata": {
        "id": "fbyB2dzjXpxV"
      }
    },
    {
      "cell_type": "code",
      "source": [
        "# 조합별 최소거리 측정 함수\n",
        "def cal_distance(candidate):\n",
        "    result = 0\n",
        "    for x1, y1 in house :\n",
        "        temp = 1e9\n",
        "        for x2, y2 in candidate:\n",
        "            temp = min(temp, (abs(x1-x2)+ abs(y1-y2)))\n",
        "        result+=temp\n",
        "    return result\n",
        "\n",
        "# 입력\n",
        "n, m = map(int, input().split())\n",
        "maps = [list(map(int, input().split())) for _ in range(n)]\n",
        "\n",
        "# 집, 치킨집 좌표 모으기\n",
        "house = []\n",
        "chichen = []\n",
        "for i in range(n):\n",
        "    for j in range(n):\n",
        "        if maps[i][j] == 1:\n",
        "            house.append((i,j))\n",
        "        elif maps[i][j] == 2:\n",
        "            chichen.append((i,j))\n",
        "# 치킨집 조합 생성\n",
        "from itertools import combinations\n",
        "candidates = list(combinations(chichen, m))\n",
        "\n",
        "# 최적거리\n",
        "opt = 1e9\n",
        "for candi in candidates:\n",
        "    opt = min(opt, cal_distance(candi))\n",
        "print(opt)"
      ],
      "metadata": {
        "id": "juvYhmOmXpX7"
      },
      "execution_count": null,
      "outputs": []
    },
    {
      "cell_type": "markdown",
      "source": [
        "## 외벽 점검"
      ],
      "metadata": {
        "id": "7vPb5z6fSds4"
      }
    },
    {
      "cell_type": "markdown",
      "source": [
        "링크 참고\n",
        "\n",
        "https://school.programmers.co.kr/learn/courses/30/lessons/60062"
      ],
      "metadata": {
        "id": "2KKD3fNBU4T-"
      }
    },
    {
      "cell_type": "markdown",
      "source": [
        "<아이디어>\n",
        "\n",
        "- 문제에서 주어지는 원소의 숫자가 작아서 완전탐색 문제인듯 하다.\n",
        "- 원형을 선형으로 바꾸어준다. 두배로 늘리면, 원래 순서의 맨 마지막부터 탐색해도 두배로 늘린 리스트의 끝까지는 갈 수 없으니 탐색이 가능하다. (대체 이런건 어떻게 생각할까?)\n",
        "- weak를 순서와 거리 개념으로 동시에 생각.\n",
        "- 친구들을 순열로 줄을 세운 경우를 탐색하는데, 친구가 모든 점검부위를 못 커버하면 더 투입한다. (말은 참 쉽다.)\n",
        "  - 모든 지점에서 출발을 하게 해보면서\n",
        "친구의 순서 경우 마다 (순열, permutations)\n",
        "  - 한 친구가 커버 못하면, 더 넣어보고, 주어진 친구수를 넘으면 탐색을 그만한다.(못한다.)\n",
        "  - 친구 더 넣어서 커버가능하면 친구수를 구한다. (반복하면서, 최소의 친구수를 갱신한다.)"
      ],
      "metadata": {
        "id": "vfUsZymCX2Rk"
      }
    },
    {
      "cell_type": "code",
      "source": [
        "from itertools import permutations\n",
        "def solution(n, weak, dist):\n",
        "    # 취약점의 길이를 2배로 늘려서 원형을 일자 형태로 변경한다.\n",
        "    length = len(weak)  # 취약점의 길이\n",
        "    # 취약점 길이 연장, 직선의 좌표처럼 활용\n",
        "    weak = weak + [w + n for w in weak]  # 리스트 컴프리헨션 연습\n",
        "    # 정답 초기화 : 최소값 구하는 중이니까, 가장큰수보다 더 크게 세팅\n",
        "    answer = len(dist) + 1\n",
        "    # 완전탐색\n",
        "    for start in range(length): # 모든 시작지점에서 출발시키는 경우 고려\n",
        "        # 모든 친구들의 순열의 경우 탐색, 친구들이 어떤 순서로 나가는가\n",
        "        for friends in list(permutations(dist, len(dist))):\n",
        "            # 친구투입수 초기화 1명 먼저 투입\n",
        "            count = 1  # 친구투입수이면서, 친구리스트에서 친구 뽑아낼 인덱스로도 사용 (이런게 생각해내기 어려움)\n",
        "            # 친구 투입 판단 기준 생성 : 한 친구가 커버 가능한 위치 (결점 한 곳에서 출발해서 이동한 위치)\n",
        "            position = weak[start] + friends[count-1]\n",
        "\n",
        "            # 친구 몇 명 넣을지 보는 판단\n",
        "            # 취약지점 확인 : 친구가 투입되는 위치(start)부터 전체 취약지점(start + length) 을 본다.\n",
        "            # 그리고 인덱스로 위치를 확인(weak리스트에서)하고, 판단기준(position)보다 큰지 확인.\n",
        "            for index in range(start, start + length):\n",
        "            # 이중 for문 바깥의 돌리는 숫자 가져와서 또 사용하는 것, 이것도 생각하기 어려움.\n",
        "                if position < weak[index] : # 모든 취약지점 중 하나라도 한 친구가 커버가능한 범위를 벗어나면\n",
        "                    count += 1   # 새로운 친구를 투입한다. (친구수 기능 + 친구 뽑아 내는 인덱스 기능 동시)\n",
        "                    if count > len(dist):\n",
        "                    # 새로운 친구 투입수가 원래 친구수보다 많으면, 취약지점 확인이 안되는 거니까,\n",
        "                    # 취약지점 확인 for문을 나간다. (어디를 나가는지 봐야지)\n",
        "                        break\n",
        "                    # 친구 투입에 문제가 없다면 (원래 친구수 안에서 투입가능하면)\n",
        "                    # 한 친구로 커버 안되는 취약지점의 위치에서 (weak[index]의 의미)\n",
        "                    # 추가로 투입한 친구의 커버 가능범위를 더해서 커버가능한 범위를 갱신\n",
        "                    position = weak[index] + friends[count-1]\n",
        "            # 정답 갱신 : 모든 친구의 순열 경우 마다 최소값 갱신\n",
        "            answer = min(answer, count)\n",
        "\n",
        "    if answer > len(dist):  # 정답이 친구수를 넘어갔으면 , -1 내보낸다.\n",
        "        return -1\n",
        "    return answer # 그렇지 않으면, 정답을 내보낸다."
      ],
      "metadata": {
        "id": "gr2_9EclU34n"
      },
      "execution_count": null,
      "outputs": []
    },
    {
      "cell_type": "markdown",
      "source": [
        "- 왜 이렇게 어렵지? 싶어서 카카오 테크블로그에 들어가보니, 정답율 0.6%, 100명 풀어도 1명도 제대로 못푼다. 너무 낙심말자.\n",
        "  - 카카오 테크블로그 코딩테스트 해설집 링크에 정답율 나옴.\n",
        "  - 링크 : https://tech.kakao.com/2019/10/02/kakao-blind-recruitment-2020-round1/\n",
        "- 다시 문제풀이를 순서대로 떠올리기조차 어렵다.\n",
        "- 읽고, 쓰고 하다보면 언젠가 생각해낼 수 있으려나. 근데 변형된 문제는 풀겠나?..."
      ],
      "metadata": {
        "id": "VCFp06OrYDhr"
      }
    }
  ]
}